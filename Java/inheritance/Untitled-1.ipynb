{
 "cells": [
  {
   "attachments": {},
   "cell_type": "markdown",
   "metadata": {},
   "source": [
    "This is the single inheritance in java."
   ]
  },
  {
   "cell_type": "code",
   "execution_count": null,
   "metadata": {
    "vscode": {
     "languageId": "java"
    }
   },
   "outputs": [],
   "source": [
    "// Hierarchical Inheritance Example\n",
    "\n",
    "// Parent class\n",
    "class Animal {\n",
    "  public void eat() {\n",
    "    System.out.println(\"The animal is eating.\");\n",
    "  }\n",
    "}\n",
    "\n",
    "// Child class inheriting from Animal\n",
    "class Dog extends Animal {\n",
    "  public void bark() {\n",
    "    System.out.println(\"The dog is barking.\");\n",
    "  }\n",
    "}\n",
    "\n",
    "// Another child class inheriting from Animal\n",
    "class Cat extends Animal {\n",
    "  public void meow() {\n",
    "    System.out.println(\"The cat is meowing.\");\n",
    "  }\n",
    "}\n",
    "\n",
    "// Main method to test the classes\n",
    "public class Main {\n",
    "  public static void main(String[] args) {\n",
    "    Dog myDog = new Dog();\n",
    "    myDog.eat(); // Output: The animal is eating.\n",
    "    myDog.bark(); // Output: The dog is barking.\n",
    "\n",
    "    Cat myCat = new Cat();\n",
    "    myCat.eat(); // Output: The animal is eating.\n",
    "    myCat.meow(); // Output: The cat is meowing.\n",
    "  }\n",
    "}"
   ]
  }
 ],
 "metadata": {
  "kernelspec": {
   "display_name": "Python 3",
   "language": "python",
   "name": "python3"
  },
  "language_info": {
   "name": "python",
   "version": "3.11.3"
  },
  "orig_nbformat": 4
 },
 "nbformat": 4,
 "nbformat_minor": 2
}
