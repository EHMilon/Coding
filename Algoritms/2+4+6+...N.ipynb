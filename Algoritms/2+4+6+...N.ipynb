{
 "cells": [
  {
   "cell_type": "markdown",
   "metadata": {},
   "source": [
    "2+4+6+...N\n",
    "1. Take input The value of `N`\n",
    "2. Initialize a variable `Sum = 0`\n",
    "3. use a loop\n",
    "    ```java\n",
    "    for(int i = 2; i<=n; i+=2){\n",
    "        sum += i;\n",
    "    }\n",
    "    ```\n",
    "    \n",
    "    "
   ]
  }
 ],
 "metadata": {
  "language_info": {
   "name": "python"
  },
  "orig_nbformat": 4
 },
 "nbformat": 4,
 "nbformat_minor": 2
}
