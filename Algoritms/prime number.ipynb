{
 "cells": [
  {
   "cell_type": "markdown",
   "metadata": {},
   "source": [
    "Prime number algorithm\n",
    "1. Start\n",
    "2. Make a function called `isPrime(int n)`\n",
    "    - If `n <= 1`, then it is not a prime number, so return `false` or `0`\n",
    "    - If `n > 1`, use a `for` loop:\n",
    "        - Initialize `i` to 2\n",
    "        - Continue the loop while `i <= Math.sqrt(n)`\n",
    "        - Increment `i` by 1 in each iteration\n",
    "            - Inside the loop, check if `n % i == 0`\n",
    "                - If true, return `false`\n",
    "    - Return `true` if none of the above conditions match\n",
    "3. To find if a number is prime or not:\n",
    "    - Take input from the user and initialize a variable `num`\n",
    "    - If `isPrime(num)` returns `true`, print \"This is a prime number\"\n",
    "    - Otherwise, print \"This is not a prime number\"\n",
    "4. To print prime numbers between 1 to 100:\n",
    "    - Use a `for` loop:\n",
    "        - Initialize `i` to 2\n",
    "        - Continue the loop while `i <= 100`\n",
    "        - Increment `i` by 1 in each iteration\n",
    "            - Inside the loop, check if `isPrime(i)` returns `true`\n",
    "                - If true, print the value of `i`\n",
    "5. Exit\n"
   ]
  },
  {
   "cell_type": "code",
   "execution_count": null,
   "metadata": {
    "vscode": {
     "languageId": "java"
    }
   },
   "outputs": [],
   "source": [
    "import java.util.Scanner;\n",
    "\n",
    "public class primeNum {\n",
    "    public static boolean isPrime(int num){\n",
    "        if (num <= 1) {\n",
    "            return false;\n",
    "        }\n",
    "        if (num>1) {\n",
    "            for (int i = 2; i < Math.sqrt(num); i++) {\n",
    "                if (num % i == 0) {\n",
    "                    return false;\n",
    "                }\n",
    "            }\n",
    "        }\n",
    "        return true;\n",
    "    }\n",
    "\n",
    "    public static void main(String[] args) {\n",
    "        //Find a number prime or not\n",
    "        /* int number = 11;\n",
    "        if (isPrime(number)) {\n",
    "            System.out.println(\"This is a prime number.\");\n",
    "        }\n",
    "        else {\n",
    "            System.out.println(\"This is not a prime number.\");\n",
    "        } */\n",
    "\n",
    "        //Print 1 to 100 prime number\n",
    "        System.out.println(\"Prime numbers between 1 and 100:\");\n",
    "        for (int i = 1; i <= 100; i++) {\n",
    "            if (isPrime(i)) {\n",
    "                System.out.print(i + \" \");\n",
    "            }\n",
    "        }\n",
    "    }\n",
    "}\n",
    "    "
   ]
  }
 ],
 "metadata": {
  "language_info": {
   "name": "python"
  },
  "orig_nbformat": 4
 },
 "nbformat": 4,
 "nbformat_minor": 2
}
